{
 "cells": [
  {
   "cell_type": "code",
   "execution_count": 1,
   "metadata": {},
   "outputs": [],
   "source": [
    "import re"
   ]
  },
  {
   "cell_type": "code",
   "execution_count": 4,
   "metadata": {},
   "outputs": [],
   "source": [
    "text = 'asl;;lkaf;a;a;a;fk;asf-kajhf'"
   ]
  },
  {
   "cell_type": "code",
   "execution_count": 6,
   "metadata": {},
   "outputs": [
    {
     "data": {
      "text/plain": [
       "['a',\n",
       " 's',\n",
       " 'l',\n",
       " 'l',\n",
       " 'k',\n",
       " 'a',\n",
       " 'f',\n",
       " 'a',\n",
       " 'a',\n",
       " 'a',\n",
       " 'f',\n",
       " 'k',\n",
       " 'a',\n",
       " 's',\n",
       " 'f',\n",
       " 'k',\n",
       " 'a',\n",
       " 'j',\n",
       " 'h',\n",
       " 'f']"
      ]
     },
     "execution_count": 6,
     "metadata": {},
     "output_type": "execute_result"
    }
   ],
   "source": [
    "pattern = '[^;-]'\n",
    "result = re.findall(pattern, text)\n",
    "result"
   ]
  },
  {
   "cell_type": "code",
   "execution_count": null,
   "metadata": {},
   "outputs": [],
   "source": [
    "elonInfo = '''\n",
    "Elon musk's pnone number 9999939929, cell hin if you have any questions on dogcoin. Tesla's reve 32423\n",
    "'''"
   ]
  }
 ],
 "metadata": {
  "kernelspec": {
   "display_name": "base",
   "language": "python",
   "name": "python3"
  },
  "language_info": {
   "codemirror_mode": {
    "name": "ipython",
    "version": 3
   },
   "file_extension": ".py",
   "mimetype": "text/x-python",
   "name": "python",
   "nbconvert_exporter": "python",
   "pygments_lexer": "ipython3",
   "version": "3.11.5"
  }
 },
 "nbformat": 4,
 "nbformat_minor": 2
}
