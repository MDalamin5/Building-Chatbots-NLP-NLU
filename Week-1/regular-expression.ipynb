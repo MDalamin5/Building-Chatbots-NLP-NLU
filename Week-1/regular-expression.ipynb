{
 "cells": [
  {
   "cell_type": "code",
   "execution_count": 1,
   "metadata": {},
   "outputs": [],
   "source": [
    "import re"
   ]
  },
  {
   "cell_type": "code",
   "execution_count": 2,
   "metadata": {},
   "outputs": [],
   "source": [
    "text = 'asl;;lkaf;a;a;a;fk;asf-kajhf'"
   ]
  },
  {
   "cell_type": "code",
   "execution_count": 3,
   "metadata": {},
   "outputs": [
    {
     "data": {
      "text/plain": [
       "['a',\n",
       " 's',\n",
       " 'l',\n",
       " 'l',\n",
       " 'k',\n",
       " 'a',\n",
       " 'f',\n",
       " 'a',\n",
       " 'a',\n",
       " 'a',\n",
       " 'f',\n",
       " 'k',\n",
       " 'a',\n",
       " 's',\n",
       " 'f',\n",
       " 'k',\n",
       " 'a',\n",
       " 'j',\n",
       " 'h',\n",
       " 'f']"
      ]
     },
     "execution_count": 3,
     "metadata": {},
     "output_type": "execute_result"
    }
   ],
   "source": [
    "pattern = '[^;-]'\n",
    "result = re.findall(pattern, text)\n",
    "result"
   ]
  },
  {
   "cell_type": "code",
   "execution_count": 4,
   "metadata": {},
   "outputs": [],
   "source": [
    "elonInfo = '''\n",
    "Elon musk's phone number is 9999939929. Cell hin if you have any questions on dogecoin. Tesla's reve 32 billion\n",
    "Alamin phone num (088)-1641-049756\n",
    "'''"
   ]
  },
  {
   "cell_type": "code",
   "execution_count": 5,
   "metadata": {},
   "outputs": [
    {
     "name": "stdout",
     "output_type": "stream",
     "text": [
      "['9999939929', '(088)-1641-049756']\n"
     ]
    }
   ],
   "source": [
    "numPattarn = '\\(\\d{3}\\)-\\d{4}-\\d{6}|\\d{10}'\n",
    "print(re.findall(numPattarn, elonInfo))"
   ]
  },
  {
   "cell_type": "code",
   "execution_count": 12,
   "metadata": {},
   "outputs": [],
   "source": [
    "chat1 = 'alamin: you ask lot of question 12345678912, abc@xyz.com'\n",
    "chat2 = 'alamin: here it is: (123)-567-8912, abcX_89@xyz.com'\n",
    "chat3 = 'alamin: yes, phone 12345678912 email: abc@xyz.io'"
   ]
  },
  {
   "cell_type": "code",
   "execution_count": 10,
   "metadata": {},
   "outputs": [
    {
     "data": {
      "text/plain": [
       "['1234567891']"
      ]
     },
     "execution_count": 10,
     "metadata": {},
     "output_type": "execute_result"
    }
   ],
   "source": [
    "pattern = '\\d{10}|\\(\\d{3}\\)-\\d{3}-\\d{4}'\n",
    "matches = re.findall(pattern, chat1)\n",
    "matches"
   ]
  },
  {
   "cell_type": "code",
   "execution_count": 13,
   "metadata": {},
   "outputs": [
    {
     "data": {
      "text/plain": [
       "['abcX_89@xyz.com']"
      ]
     },
     "execution_count": 13,
     "metadata": {},
     "output_type": "execute_result"
    }
   ],
   "source": [
    "emailPattern = '[a-zA-Z0-9_]*@[a-zA-Z0-9_]*\\.[a-zA-Z]*'\n",
    "matches = re.findall(emailPattern, chat2)\n",
    "matches"
   ]
  },
  {
   "cell_type": "code",
   "execution_count": 14,
   "metadata": {},
   "outputs": [],
   "source": [
    "chat11 = 'Alamin: HEllo, i am having an issue with my order # 412889912'\n",
    "chat22 = 'Alamin: i have problem with my order number 412889912'\n",
    "chat33 = 'Almin: my order 412889912 is having an issue, i was charged 300$ when online it says 280$'"
   ]
  },
  {
   "cell_type": "code",
   "execution_count": 15,
   "metadata": {},
   "outputs": [
    {
     "data": {
      "text/plain": [
       "['412889912']"
      ]
     },
     "execution_count": 15,
     "metadata": {},
     "output_type": "execute_result"
    }
   ],
   "source": [
    "orderNumPattern = 'order[^\\d]*(\\d*)'\n",
    "matches = re.findall(orderNumPattern, chat11)\n",
    "matches"
   ]
  }
 ],
 "metadata": {
  "kernelspec": {
   "display_name": "base",
   "language": "python",
   "name": "python3"
  },
  "language_info": {
   "codemirror_mode": {
    "name": "ipython",
    "version": 3
   },
   "file_extension": ".py",
   "mimetype": "text/x-python",
   "name": "python",
   "nbconvert_exporter": "python",
   "pygments_lexer": "ipython3",
   "version": "3.11.5"
  }
 },
 "nbformat": 4,
 "nbformat_minor": 2
}
