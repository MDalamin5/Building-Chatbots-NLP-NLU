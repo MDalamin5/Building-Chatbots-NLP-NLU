{
 "cells": [
  {
   "cell_type": "code",
   "execution_count": 1,
   "metadata": {},
   "outputs": [],
   "source": [
    "import pandas as pd"
   ]
  },
  {
   "cell_type": "code",
   "execution_count": 2,
   "metadata": {},
   "outputs": [
    {
     "data": {
      "text/html": [
       "<div>\n",
       "<style scoped>\n",
       "    .dataframe tbody tr th:only-of-type {\n",
       "        vertical-align: middle;\n",
       "    }\n",
       "\n",
       "    .dataframe tbody tr th {\n",
       "        vertical-align: top;\n",
       "    }\n",
       "\n",
       "    .dataframe thead th {\n",
       "        text-align: right;\n",
       "    }\n",
       "</style>\n",
       "<table border=\"1\" class=\"dataframe\">\n",
       "  <thead>\n",
       "    <tr style=\"text-align: right;\">\n",
       "      <th></th>\n",
       "      <th>Unnamed: 0</th>\n",
       "      <th>Company name</th>\n",
       "      <th>Job title</th>\n",
       "      <th>Working model</th>\n",
       "      <th>Job Type</th>\n",
       "      <th>Required Experience</th>\n",
       "      <th>Salary</th>\n",
       "    </tr>\n",
       "  </thead>\n",
       "  <tbody>\n",
       "    <tr>\n",
       "      <th>0</th>\n",
       "      <td>0</td>\n",
       "      <td>Celloscope Ltd</td>\n",
       "      <td>NaN</td>\n",
       "      <td>On Site</td>\n",
       "      <td>Full time</td>\n",
       "      <td>Fresher</td>\n",
       "      <td>18-20K (Negotiable)</td>\n",
       "    </tr>\n",
       "    <tr>\n",
       "      <th>1</th>\n",
       "      <td>1</td>\n",
       "      <td>Streamline Technologies</td>\n",
       "      <td>NaN</td>\n",
       "      <td>Remote</td>\n",
       "      <td>Full time</td>\n",
       "      <td>More than 2 years</td>\n",
       "      <td>30-70k BDT</td>\n",
       "    </tr>\n",
       "    <tr>\n",
       "      <th>2</th>\n",
       "      <td>2</td>\n",
       "      <td>ADVENTURE DHAKA LIMITED</td>\n",
       "      <td>NaN</td>\n",
       "      <td>On Site</td>\n",
       "      <td>Full time</td>\n",
       "      <td>More than 2 years</td>\n",
       "      <td>800000-150000</td>\n",
       "    </tr>\n",
       "    <tr>\n",
       "      <th>3</th>\n",
       "      <td>3</td>\n",
       "      <td>Inument Solutions Limited</td>\n",
       "      <td>NaN</td>\n",
       "      <td>On Site</td>\n",
       "      <td>Full time</td>\n",
       "      <td>More than 2 years</td>\n",
       "      <td>120k-280k</td>\n",
       "    </tr>\n",
       "    <tr>\n",
       "      <th>4</th>\n",
       "      <td>4</td>\n",
       "      <td>Padma</td>\n",
       "      <td>Embedded Engineer</td>\n",
       "      <td>On Site</td>\n",
       "      <td>Full time</td>\n",
       "      <td>More than 2 years</td>\n",
       "      <td>45k - 50k BDT</td>\n",
       "    </tr>\n",
       "  </tbody>\n",
       "</table>\n",
       "</div>"
      ],
      "text/plain": [
       "   Unnamed: 0                Company name           Job title Working model  \\\n",
       "0           0              Celloscope Ltd                 NaN       On Site   \n",
       "1           1     Streamline Technologies                 NaN        Remote   \n",
       "2           2     ADVENTURE DHAKA LIMITED                 NaN       On Site   \n",
       "3           3   Inument Solutions Limited                 NaN       On Site   \n",
       "4           4                       Padma  Embedded Engineer        On Site   \n",
       "\n",
       "    Job Type Required Experience                Salary  \n",
       "0  Full time              Fresher  18-20K (Negotiable)  \n",
       "1  Full time    More than 2 years           30-70k BDT  \n",
       "2  Full time    More than 2 years        800000-150000  \n",
       "3  Full time    More than 2 years            120k-280k  \n",
       "4  Full time    More than 2 years        45k - 50k BDT  "
      ]
     },
     "execution_count": 2,
     "metadata": {},
     "output_type": "execute_result"
    }
   ],
   "source": [
    "df = pd.read_csv('job-data.csv')\n",
    "df.head(5)"
   ]
  },
  {
   "cell_type": "code",
   "execution_count": 3,
   "metadata": {},
   "outputs": [
    {
     "data": {
      "text/plain": [
       "Job title\n",
       "Software Engineer                    9\n",
       "Flutter Developer                    4\n",
       "DevOps Engineer                      4\n",
       "WordPress Developer                  3\n",
       "Full Stack Web Developer             3\n",
       "                                    ..\n",
       "Software Engineer (Ruby on Rails)    1\n",
       "Software Engineer (OutSystems)       1\n",
       "Software Requirements Engineer       1\n",
       "Software Engineer (PHP)              1\n",
       "Senior Full Stack Developer          1\n",
       "Name: count, Length: 203, dtype: int64"
      ]
     },
     "execution_count": 3,
     "metadata": {},
     "output_type": "execute_result"
    }
   ],
   "source": [
    "df['Job title'].value_counts()"
   ]
  },
  {
   "cell_type": "code",
   "execution_count": null,
   "metadata": {},
   "outputs": [],
   "source": []
  }
 ],
 "metadata": {
  "kernelspec": {
   "display_name": "base",
   "language": "python",
   "name": "python3"
  },
  "language_info": {
   "codemirror_mode": {
    "name": "ipython",
    "version": 3
   },
   "file_extension": ".py",
   "mimetype": "text/x-python",
   "name": "python",
   "nbconvert_exporter": "python",
   "pygments_lexer": "ipython3",
   "version": "3.11.5"
  }
 },
 "nbformat": 4,
 "nbformat_minor": 2
}
